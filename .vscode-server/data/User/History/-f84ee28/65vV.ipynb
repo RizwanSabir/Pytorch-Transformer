{
 "cells": [
  {
   "cell_type": "code",
   "execution_count": 2,
   "metadata": {},
   "outputs": [],
   "source": [
    "from datasets import load_dataset\n",
    "\n",
    "def get_ds(config):\n",
    "    # It only has the train split, so we divide it ourselves\n",
    "    ds_raw = load_dataset(\n",
    "        f\"{config['datasource']}\", \n",
    "        f\"{config['lang_src']}-{config['lang_tgt']}\", \n",
    "        split='train'\n",
    "    )\n",
    "    return ds_raw\n"
   ]
  },
  {
   "cell_type": "code",
   "execution_count": null,
   "metadata": {},
   "outputs": [],
   "source": []
  }
 ],
 "metadata": {
  "kernelspec": {
   "display_name": "cloudspace",
   "language": "python",
   "name": "python3"
  },
  "language_info": {
   "codemirror_mode": {
    "name": "ipython",
    "version": 3
   },
   "file_extension": ".py",
   "mimetype": "text/x-python",
   "name": "python",
   "nbconvert_exporter": "python",
   "pygments_lexer": "ipython3",
   "version": "3.10.10"
  }
 },
 "nbformat": 4,
 "nbformat_minor": 2
}
