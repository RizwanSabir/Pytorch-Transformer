{
 "cells": [
  {
   "cell_type": "code",
   "execution_count": 3,
   "metadata": {},
   "outputs": [],
   "source": [
    "from datasets import load_dataset\n",
    "\n",
    "def get_ds(config):\n",
    "    # It only has the train split, so we divide it ourselves\n",
    "    ds_raw = load_dataset(\n",
    "        f\"{config['opus_books']}\", \n",
    "        f\"{config['en']}-{config['it']}\", \n",
    "        split='train'\n",
    "    )\n",
    "    return ds_raw\n"
   ]
  },
  {
   "cell_type": "code",
   "execution_count": 6,
   "metadata": {},
   "outputs": [
    {
     "name": "stdout",
     "output_type": "stream",
     "text": [
      "Latest weights file: None\n"
     ]
    },
    {
     "data": {
      "text/plain": [
       "Dataset({\n",
       "    features: ['id', 'translation'],\n",
       "    num_rows: 32332\n",
       "})"
      ]
     },
     "execution_count": 6,
     "metadata": {},
     "output_type": "execute_result"
    }
   ],
   "source": [
    "# main.py\n",
    "\n",
    "from config import get_config, get_weights_file_path, latest_weights_file_path\n",
    "from datasets import load_dataset\n",
    "from transformers import AutoTokenizer\n",
    "\n",
    "def get_ds(config):\n",
    "    # Load dataset using the config\n",
    "    ds_raw = load_dataset(\n",
    "        f\"{config['datasource']}\", \n",
    "        f\"{config['lang_src']}-{config['lang_tgt']}\", \n",
    "        split='train'\n",
    "    )\n",
    "    \n",
    "    return ds_raw\n",
    "    \n",
    "\n",
    "# Call the function with the config dictionary\n",
    "config = get_config()\n",
    "\n",
    "# Example: Get the latest weights file\n",
    "weights_file = latest_weights_file_path(config)\n",
    "print(\"Latest weights file:\", weights_file)\n",
    "\n",
    "# Now use the config with your dataset function\n",
    "dataset = get_ds(config)\n",
    "\n",
    "dataset"
   ]
  },
  {
   "cell_type": "code",
   "execution_count": 7,
   "metadata": {},
   "outputs": [
    {
     "name": "stdout",
     "output_type": "stream",
     "text": [
      "Sample 1:\n",
      "ID: 0\n",
      "Source: Source: Project Gutenberg\n",
      "Target: Source: www.liberliber.it/Audiobook available here\n",
      "--------------------------------------------------\n",
      "Sample 2:\n",
      "ID: 1\n",
      "Source: Jane Eyre\n",
      "Target: Jane Eyre\n",
      "--------------------------------------------------\n",
      "Sample 3:\n",
      "ID: 2\n",
      "Source: Charlotte Bronte\n",
      "Target: Charlotte Brontë\n",
      "--------------------------------------------------\n",
      "Sample 4:\n",
      "ID: 3\n",
      "Source: CHAPTER I\n",
      "Target: PARTE PRIMA\n",
      "--------------------------------------------------\n",
      "Sample 5:\n",
      "ID: 4\n",
      "Source: There was no possibility of taking a walk that day.\n",
      "Target: I. In quel giorno era impossibile passeggiare.\n",
      "--------------------------------------------------\n"
     ]
    }
   ],
   "source": [
    "import matplotlib.pyplot as plt\n",
    "\n",
    "def visualize_sample_translations(ds_raw, num_samples=5):\n",
    "    samples = ds_raw.select(range(num_samples))\n",
    "    \n",
    "    for idx, sample in enumerate(samples):\n",
    "        print(f\"Sample {idx + 1}:\")\n",
    "        print(f\"ID: {sample['id']}\")\n",
    "        print(f\"Source: {sample['translation']['en']}\")  # Assuming 'translation' is a dict with a 'en' key for source\n",
    "        print(f\"Target: {sample['translation']['it']}\")  # Assuming 'it' is the target language\n",
    "        print(\"-\" * 50)\n",
    "\n",
    "# Call the function to print and visualize sample translations\n",
    "visualize_sample_translations(dataset)\n"
   ]
  },
  {
   "cell_type": "code",
   "execution_count": null,
   "metadata": {},
   "outputs": [
    {
     "ename": "AttributeError",
     "evalue": "'Dataset' object has no attribute 'head'",
     "output_type": "error",
     "traceback": [
      "\u001b[0;31m---------------------------------------------------------------------------\u001b[0m",
      "\u001b[0;31mAttributeError\u001b[0m                            Traceback (most recent call last)",
      "Cell \u001b[0;32mIn[9], line 2\u001b[0m\n\u001b[1;32m      1\u001b[0m \u001b[38;5;66;03m# Displaying the first few rows of the dataset\u001b[39;00m\n\u001b[0;32m----> 2\u001b[0m \u001b[38;5;28mprint\u001b[39m(\u001b[43mdataset\u001b[49m\u001b[38;5;241;43m.\u001b[39;49m\u001b[43mhead\u001b[49m())\n",
      "\u001b[0;31mAttributeError\u001b[0m: 'Dataset' object has no attribute 'head'"
     ]
    }
   ],
   "source": [
    "\n"
   ]
  }
 ],
 "metadata": {
  "kernelspec": {
   "display_name": "cloudspace",
   "language": "python",
   "name": "python3"
  },
  "language_info": {
   "codemirror_mode": {
    "name": "ipython",
    "version": 3
   },
   "file_extension": ".py",
   "mimetype": "text/x-python",
   "name": "python",
   "nbconvert_exporter": "python",
   "pygments_lexer": "ipython3",
   "version": "3.10.10"
  }
 },
 "nbformat": 4,
 "nbformat_minor": 2
}
