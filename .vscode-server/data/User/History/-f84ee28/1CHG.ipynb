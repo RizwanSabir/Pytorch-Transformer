{
 "cells": [
  {
   "cell_type": "code",
   "execution_count": 3,
   "metadata": {},
   "outputs": [],
   "source": [
    "from datasets import load_dataset\n",
    "\n",
    "def get_ds(config):\n",
    "    # It only has the train split, so we divide it ourselves\n",
    "    ds_raw = load_dataset(\n",
    "        f\"{config['opus_books']}\", \n",
    "        f\"{config['en']}-{config['it']}\", \n",
    "        split='train'\n",
    "    )\n",
    "    return ds_raw\n"
   ]
  },
  {
   "cell_type": "code",
   "execution_count": 6,
   "metadata": {},
   "outputs": [
    {
     "name": "stdout",
     "output_type": "stream",
     "text": [
      "Latest weights file: None\n"
     ]
    },
    {
     "data": {
      "text/plain": [
       "Dataset({\n",
       "    features: ['id', 'translation'],\n",
       "    num_rows: 32332\n",
       "})"
      ]
     },
     "execution_count": 6,
     "metadata": {},
     "output_type": "execute_result"
    }
   ],
   "source": [
    "# main.py\n",
    "\n",
    "from config import get_config, get_weights_file_path, latest_weights_file_path\n",
    "from datasets import load_dataset\n",
    "from transformers import AutoTokenizer\n",
    "\n",
    "def get_ds(config):\n",
    "    # Load dataset using the config\n",
    "    ds_raw = load_dataset(\n",
    "        f\"{config['datasource']}\", \n",
    "        f\"{config['lang_src']}-{config['lang_tgt']}\", \n",
    "        split='train'\n",
    "    )\n",
    "    \n",
    "    return ds_raw\n",
    "    \n",
    "\n",
    "# Call the function with the config dictionary\n",
    "config = get_config()\n",
    "\n",
    "# Example: Get the latest weights file\n",
    "weights_file = latest_weights_file_path(config)\n",
    "print(\"Latest weights file:\", weights_file)\n",
    "\n",
    "# Now use the config with your dataset function\n",
    "dataset = get_ds(config)\n",
    "\n",
    "dataset"
   ]
  }
 ],
 "metadata": {
  "kernelspec": {
   "display_name": "cloudspace",
   "language": "python",
   "name": "python3"
  },
  "language_info": {
   "codemirror_mode": {
    "name": "ipython",
    "version": 3
   },
   "file_extension": ".py",
   "mimetype": "text/x-python",
   "name": "python",
   "nbconvert_exporter": "python",
   "pygments_lexer": "ipython3",
   "version": "3.10.10"
  }
 },
 "nbformat": 4,
 "nbformat_minor": 2
}
