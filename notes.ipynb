{
 "cells": [
  {
   "cell_type": "code",
   "execution_count": null,
   "metadata": {},
   "outputs": [],
   "source": [
    "#Dataset Class is used by identifying how the each data will be accessed"
   ]
  },
  {
   "cell_type": "code",
   "execution_count": null,
   "metadata": {},
   "outputs": [],
   "source": [
    "#DataLoader class is used for loading the dataset into batches and used for shuffle them"
   ]
  },
  {
   "cell_type": "code",
   "execution_count": null,
   "metadata": {},
   "outputs": [],
   "source": [
    "import torch\n",
    "from torch.utils.data import Dataset, DataLoader\n",
    "from torchvision import transforms, datasets\n",
    "from tqdm import tqdm\n",
    "\n",
    "# Custom Dataset example (here we use CIFAR10 for simplicity)\n",
    "transform = transforms.Compose([\n",
    "    transforms.ToTensor(),\n",
    "    transforms.Normalize((0.5, 0.5, 0.5), (0.5, 0.5, 0.5))\n",
    "])\n",
    "train_dataset = datasets.CIFAR10(root='./data', train=True, download=True, transform=transform)\n",
    "train_dataloader = DataLoader(train_dataset, batch_size=64, shuffle=True)\n",
    "\n",
    "# Dummy training loop for demonstration\n",
    "num_epochs = 3\n",
    "\n",
    "for epoch in range(1, num_epochs + 1):\n",
    "    # Create a tqdm progress bar for the current epoch\n",
    "    batch_iterator = tqdm(train_dataloader, desc=f\"Processing Epoch {epoch:02d}\")\n",
    "    for batch in batch_iterator:\n",
    "        images, labels = batch  # Each batch contains a tuple (images, labels)\n",
    "        \n",
    "        # Here you would normally perform:\n",
    "        # 1. Forward pass through your network\n",
    "        # 2. Compute loss\n",
    "        # 3. Backpropagation and optimizer step\n",
    "        \n",
    "        # For demonstration, we'll just simulate a dummy processing time:\n",
    "        # (In real training, this is where your model operations would go.)\n",
    "        torch.sleep(0.01)  # Sleep for 10ms to simulate work\n",
    "\n",
    "    print(f\"Epoch {epoch:02d} completed!\")\n"
   ]
  }
 ],
 "metadata": {
  "kernelspec": {
   "display_name": "Sele",
   "language": "python",
   "name": "python3"
  },
  "language_info": {
   "name": "python",
   "version": "3.10.15"
  }
 },
 "nbformat": 4,
 "nbformat_minor": 2
}
